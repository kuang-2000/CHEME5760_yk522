{
 "cells": [
  {
   "cell_type": "markdown",
   "id": "9ea0e623-f478-43b0-b23a-0e388e65cd90",
   "metadata": {},
   "source": [
    "# PS3: Optimal Stopping Problem: Computing the Price of an American Call Contract\n",
    "A binomial lattice model assumes that at each discrete time increment, the state of the system, e.g., the share price of equity, can either increase by a factor $u$ with probability $p$ or decrease by a factor $d$ with probability $(1-p)$ in the next time interval. Thus, each discrete time interval can be modeled as a [Bernoulli random variable](https://en.wikipedia.org/wiki/Bernoulli_distribution):\n",
    "\n",
    "<div>\n",
    "    <center>\n",
    "        <img src=\"figs/Fig-Binomial-Lattice-Schematic.svg\" width=\"280\"/>\n",
    "    </center>\n",
    "</div>\n",
    "\n",
    "while each level (time slice) of the tree is described by a [Binomial distribution](https://en.wikipedia.org/wiki/Binomial_distribution). Different models have been developed to compute the tuple $(u,d,p)$. However, for now, let's specify these and calculate the value of an American `put` contract written with respect to the lattice.\n",
    "\n",
    "## Contracts\n",
    "Options are contracts between two parties to buy or sell an asset, e.g., \n",
    "shares of stock at a specific price by a specific date:\n",
    "\n",
    "* A $\\textbf{call option}$ gives the owner the right, but not the obligation, to buy the underlying asset at a specific price $K$ by a particular date $T$. The payoff $V_{c}(K, S)$ to the owner (long) of a call contract is given by: $V_{c}(K, S) = \\max\\left(S-K,0\\right)$. The `call` contract seller (short) receives a premium $\\mathcal{P}_{c}$ for selling the contract.\n",
    "\n",
    "* A $\\textbf{put option}$ gives the owner the right, but not the obligation, to sell the underlying asset at a specific price $K$ by a particular date $T$. The payoff $V_{p}(K, S)$ to the owner (long) of a put contract is given by: $V_{p}(K, S) = \\max\\left(K-S,0\\right)$. The `put` contract seller (short) receives a premium $\\mathcal{P}_{p}$ for selling the contract.\n",
    "\n",
    "## Learning objectives\n",
    "The objective of `PS3` is to familiarize students with computing future share prices and the value of American `call` contracts using the Cox, Ross, and Rubinstein (CRR) binomial lattice model. This model uses the same decision rule: `max(exercise, hold)` but has a specific approach to compute the tuple $(u,p,d)$.\n",
    "\n",
    "Use the [CRR binomial lattice model](https://en.wikipedia.org/wiki/Binomial_options_pricing_model), a particular implementation of the binomial model (see below), to price an American `call` option with the parameters: Initial share price `Sₒ = 60.0` USD/share, a strike price of `K = 60.0` USD/share, a contract duration of `1-year`, implied volatility (IV) equal to `σ = 0.10`, and a risk-free rate of `r̄ = 0.05`.\n",
    "\n",
    "### Tasks\n",
    "* __Prerequisite__: Familiarize yourself with the contents of the problem set, and download and compile the required packages (execute the include statement). \n",
    "* __Task 1__: Setup and populate the CRR lattice with the parameters provided in the problem.\n",
    "* __Task 2__: Compute the premium of an American `call` contract computationally (using the `premium(...)` function) for a tree height of `h = 2`\n",
    "    * `TODO` Test if your calculation is consistent with the `Hull` value using an `@assert isapprox(...)` test.\n",
    "    * `TODO` confirm the `call` contract premium calculation by hand for `h=2`, scan your work, and include the `pdf` in your repository\n",
    "* __Task 3__: Repeat __task 2__ with a tree height of `h = 300`, all other parameters held the same.\n",
    "    * `TODO` Test if your calculation is consistent with the `Hull` value using an `@assert isapprox(...)` test.\n",
    "    * `Conceptual question`: Why does the increased height improve your estimate of the contract premium?"
   ]
  },
  {
   "cell_type": "markdown",
   "id": "7705e7ff-9871-40b0-bc9d-709a49bd0bf7",
   "metadata": {
    "jp-MarkdownHeadingCollapsed": true,
    "tags": []
   },
   "source": [
    "## Setup"
   ]
  },
  {
   "cell_type": "markdown",
   "id": "470182cd-328b-4814-98d8-ee8b14bd6ca3",
   "metadata": {},
   "source": [
    "We set up the computational environment by including the `Include.jl` file. The `Include.jl` file loads external packages, various functions that we will use in the exercise, and custom types to model the components of our example problem."
   ]
  },
  {
   "cell_type": "code",
   "execution_count": 1,
   "id": "98133889-33e3-46ac-bfeb-c2b284c4115e",
   "metadata": {
    "tags": []
   },
   "outputs": [
    {
     "name": "stderr",
     "output_type": "stream",
     "text": [
      "\u001b[32m\u001b[1m    Updating\u001b[22m\u001b[39m git-repo `https://github.com/varnerlab/VLQuantitativeFinancePackage.jl.git`\n",
      "\u001b[32m\u001b[1m   Resolving\u001b[22m\u001b[39m package versions...\n",
      "\u001b[32m\u001b[1m  No Changes\u001b[22m\u001b[39m to `~/Desktop/julia_work/PS3-CHEME-5760-OptionPriceCalculation-Fall-2023/Project.toml`\n",
      "\u001b[32m\u001b[1m  No Changes\u001b[22m\u001b[39m to `~/Desktop/julia_work/PS3-CHEME-5760-OptionPriceCalculation-Fall-2023/Manifest.toml`\n",
      "\u001b[32m\u001b[1mPrecompiling\u001b[22m\u001b[39m project...\n",
      "\u001b[32m  ✓ \u001b[39m\u001b[90mPDMats\u001b[39m\n",
      "\u001b[32m  ✓ \u001b[39mDistributions\n",
      "\u001b[32m  ✓ \u001b[39m\u001b[90mDistributions → DistributionsChainRulesCoreExt\u001b[39m\n",
      "\u001b[32m  ✓ \u001b[39m\u001b[90mKernelDensity\u001b[39m\n",
      "\u001b[32m  ✓ \u001b[39mVLDecisionsPackage\n",
      "\u001b[32m  ✓ \u001b[39mStatsPlots\n",
      "\u001b[32m  ✓ \u001b[39mVLQuantitativeFinancePackage\n",
      "  7 dependencies successfully precompiled in 10 seconds. 250 already precompiled.\n",
      "\u001b[32m\u001b[1m    Updating\u001b[22m\u001b[39m git-repo `https://github.com/varnerlab/VLDecisionsPackage.jl.git`\n",
      "\u001b[32m\u001b[1m   Resolving\u001b[22m\u001b[39m package versions...\n",
      "\u001b[32m\u001b[1m    Updating\u001b[22m\u001b[39m `~/Desktop/julia_work/PS3-CHEME-5760-OptionPriceCalculation-Fall-2023/Project.toml`\n",
      "  \u001b[90m[10f378ab] \u001b[39m\u001b[93m~ VLDecisionsPackage v0.1.0 `https://github.com/varnerlab/VLDecisionsPackage.jl.git#main` ⇒ v0.1.0 `https://github.com/varnerlab/VLDecisionsPackage.jl.git#main`\u001b[39m\n",
      "\u001b[32m\u001b[1m    Updating\u001b[22m\u001b[39m `~/Desktop/julia_work/PS3-CHEME-5760-OptionPriceCalculation-Fall-2023/Manifest.toml`\n",
      "  \u001b[90m[bb4c363b] \u001b[39m\u001b[92m+ GridInterpolations v1.1.2\u001b[39m\n",
      "  \u001b[90m[10f378ab] \u001b[39m\u001b[93m~ VLDecisionsPackage v0.1.0 `https://github.com/varnerlab/VLDecisionsPackage.jl.git#main` ⇒ v0.1.0 `https://github.com/varnerlab/VLDecisionsPackage.jl.git#main`\u001b[39m\n",
      "\u001b[32m\u001b[1mPrecompiling\u001b[22m\u001b[39m project...\n",
      "\u001b[32m  ✓ \u001b[39mVLDecisionsPackage\n",
      "  1 dependency successfully precompiled in 4 seconds. 257 already precompiled.\n",
      "\u001b[32m\u001b[1m  Activating\u001b[22m\u001b[39m project at `~/Desktop/julia_work/PS3-CHEME-5760-OptionPriceCalculation-Fall-2023`\n",
      "\u001b[32m\u001b[1m    Updating\u001b[22m\u001b[39m registry at `~/.julia/registries/General.toml`\n",
      "\u001b[32m\u001b[1m    Updating\u001b[22m\u001b[39m git-repo `https://github.com/varnerlab/VLDecisionsPackage.jl.git`\n",
      "\u001b[32m\u001b[1m    Updating\u001b[22m\u001b[39m git-repo `https://github.com/varnerlab/VLQuantitativeFinancePackage.jl.git`\n",
      "\u001b[32m\u001b[1m  No Changes\u001b[22m\u001b[39m to `~/Desktop/julia_work/PS3-CHEME-5760-OptionPriceCalculation-Fall-2023/Project.toml`\n",
      "\u001b[32m\u001b[1m    Updating\u001b[22m\u001b[39m `~/Desktop/julia_work/PS3-CHEME-5760-OptionPriceCalculation-Fall-2023/Manifest.toml`\n",
      "  \u001b[90m[48062228] \u001b[39m\u001b[93m↑ FilePathsBase v0.9.20 ⇒ v0.9.21\u001b[39m\n",
      "  \u001b[90m[e6f89c97] \u001b[39m\u001b[93m↑ LoggingExtras v1.0.2 ⇒ v1.0.3\u001b[39m\n",
      "  \u001b[90m[90014a1f] \u001b[39m\u001b[93m↑ PDMats v0.11.19 ⇒ v0.11.24\u001b[39m\n",
      "\u001b[32m\u001b[1mPrecompiling\u001b[22m\u001b[39m project...\n",
      "\u001b[32m  ✓ \u001b[39mVLDecisionsPackage\n",
      "  1 dependency successfully precompiled in 4 seconds. 257 already precompiled.\n"
     ]
    }
   ],
   "source": [
    "include(\"Include.jl\");"
   ]
  },
  {
   "cell_type": "markdown",
   "id": "9b4e2e12-0526-47ca-b4a7-c457e0dedc17",
   "metadata": {
    "tags": []
   },
   "source": [
    "### Types\n",
    "`Include.jl` loads some [problem-specific types](https://docs.julialang.org/en/v1/manual/types/#Composite-Types) that will be helpful for the lattice model simulation of equity share prices:\n",
    "\n",
    "The `MyAdjacencyBasedCRREquityPriceTree` encodes the CRR lattice model and has the fields:\n",
    "    \n",
    "* The `connectivity::Union{Nothing, Dict{Int64, Array{Int64,1}}}` field holds the indexes of the children for each parent node of the tree.\n",
    "* The `levels::Union{Nothing, Dict{Int64, Array{Int64,1}}}` field holds indexes of nodes that belong to each level of the tree, i.e., a trading day.\n",
    "* The `u::Float64` field holds the value of the `up` factor\n",
    "* The `d::Float64` field holds the value of the `down` factor\n",
    "* The `p::Float64` field holds the value of the probability of an `up` move.\n",
    "* The `data::Union{Nothing, Dict{Int64, MyBiomialLatticeEquityNodeModel}}` holds each node in the tree; nodes are of type `MyBiomialLatticeEquityNodeModel`\n",
    "\n",
    "Each node in the tree is a `MyCRRLatticeNodeModel` type, which has two important fields:\n",
    "* The `price::Float64` field holds the price value for a node\n",
    "* The `probability::Float64` field holds the probability value associated with this node\n",
    "* The `intrinsic::Float64` field holds the `intrinsic` value of the node\n",
    "* The `extrinsic::Float64` field holds the `extrinsic` value of the node\n",
    "\n",
    "The `MyAmericanPutContractModel` and `MyAmericanCallContractModel`types hold data associated with American `put` (or `call`) contracts. In this lab, we care about the fields:\n",
    "* The `K::Float64` field holds the strike price of the contract\n",
    "* The `DTE::Union{Nothing, Float64}` field holds the duration of the contract (units: years)\n",
    "* The `sense::Union{Nothing, Int64}` field holds the orientation of the contract (in this lab, `sense = 1`). "
   ]
  },
  {
   "cell_type": "markdown",
   "id": "58e752e8-8cf0-4c53-8c06-740e1a99b891",
   "metadata": {},
   "source": [
    "### Functions\n",
    "`Include.jl` loads the following [Julia functions](https://docs.julialang.org/en/v1/manual/functions/):\n",
    "  \n",
    "`function build(model::Type{MyAdjacencyBasedCRREquityPriceTree}, data::NamedTuple) -> MyAdjacencyBasedCRREquityPriceTree` \n",
    "> This function takes information in the `data` [NamedTuple](https://docs.julialang.org/en/v1/base/base/#Core.NamedTuple) argument and returns an instance of the `MyBinomialEquityPriceTree` [mutable type](https://docs.julialang.org/en/v1/manual/types/#Mutable-Composite-Types). Note: the `MyAdjacencyBasedCRREquityPriceTree` returned from the `build(...)` function does not have price or probability information computed yet. Call the `populate(…)` function to populate this data.\n",
    "\n",
    "`function populate(model::MyAdjacencyBasedCRREquityPriceTree, Sₒ::Float64, h::Int) -> MyBinomialEquityPriceTree`\n",
    "> The `populate(...)` function takes the `model::MyBinomialEquityPriceTree` instance returned from `build(...)`, a starting share price $S_{o}$ and the height of the tree, i.e., the number of time steps to simulate, and returns an updated `model::MyBinomialEquityPriceTree` instance with the price and probabilities computed for each node in the tree.\n",
    "\n",
    "`function build(model::Type{MyAmericanPutContractModel}, data::NamedTuple) -> MyAmericanPutContractModel`\n",
    "> This function takes information in the `data` [NamedTuple](https://docs.julialang.org/en/v1/base/base/#Core.NamedTuple) argument, the strike price `K`, the duration of the contract `DTE` and the `sense = 1` flag, and returns an instance of a `MyAmericanPutContractModel` model. A similar method is also provided to construct `MyAmericanCallContractModel` instances. \n",
    "\n",
    "`function premium(contract::T, model::MyAdjacencyBasedCRREquityPriceTree; choice::Function=_rational) -> Float64 where {T<:AbstractContractModel}`\n",
    "> The `premium(...)` function takes the `contract::T` and  `model::MyBinomialEquityPriceTree` arguments and returns the `premium::Float64` (price) of the options contract, where the type `T` is any contract type `{call,put}`."
   ]
  },
  {
   "cell_type": "markdown",
   "id": "c5617682-0675-4839-af09-a3e355333e08",
   "metadata": {},
   "source": [
    "## Task 1: Setup and populate a Cox, Ross, and Rubinstein (CRR) binomial lattice\n",
    "A binomial lattice model assumes that for each discrete time increment, the state of the system, e.g., the share price of equity, can either increase by a factor $u$ with probability $p$ or decrease by a factor $d$ with probability $(1-p)$. Different models can be developed to compute specific values of the tuple $(u,d,p)$. One particular model that is very widely used in practice is the Cox, Ross, and Rubinstein (CRR) model:\n",
    "\n",
    "* [Cox, J. C.; Ross, S. A.; Rubinstein, M. (1979). \"Option pricing: A simplified approach\". Journal of Financial Economics. 7 (3): 229. CiteSeerX 10.1.1.379.7582. doi:10.1016/0304-405X(79)90015-1](https://www.sciencedirect.com/science/article/pii/0304405X79900151?via%3Dihub)\n",
    "\n",
    "The [CRR binomial lattice model](https://en.wikipedia.org/wiki/Binomial_options_pricing_model) was initially developed for options pricing in 1979. However, one of the critical aspects of estimating an option’s price is calculating the underlying asset’s share price. In the [CRR model](https://en.wikipedia.org/wiki/Binomial_options_pricing_model) model, the `up` and `down` moves are symmetric:\n",
    "\n",
    "$$ud = 1$$\n",
    "\n",
    "where the magnitude of an `up` move $u$ is given by:\n",
    "\n",
    "$$u = \\exp(\\sigma\\sqrt{\\Delta{T}})$$\n",
    "\n",
    "The quantity $\\sigma$ denotes a _volatility parameter_, and $\\Delta{T}$ represents the time step. The probability $p$ of an `up` move in a [CRR model](https://en.wikipedia.org/wiki/Binomial_options_pricing_model) is given by:\n",
    "\n",
    "$$p = \\frac{\\exp(\\bar{r}\\Delta{T}) - d}{u - d}$$\n",
    "\n",
    "where $\\bar{r}$ denotes a _return parameter_. In the [CRR model](https://en.wikipedia.org/wiki/Binomial_options_pricing_model) model paradigm, the return parameter $\\mu$ and the volatility parameter $\\sigma$ take on common values:\n",
    "* The return parameter $\\mu$ is a _risk-free_ rate of return; the _risk-free_ rate $\\bar{r}$ can be approximated by the [yield on T = 10-year United States Treasury debt security](https://ycharts.com/indicators/10_year_treasury_rate). \n",
    "* The volatility parameter $\\sigma$ is the [implied volatility](https://www.investopedia.com/terms/i/iv.asp); the implied volatility is the market's view of the likelihood of changes in a given security's price.\n",
    "\n",
    "\n",
    "### Implementation\n",
    "To start this calculation, set the problem parameters: the initial share price `Sₒ`, the strike price `K`, the implied volatility `σ̄`, the duration `T` and the time-step `Δt` of the contract, and risk-free rate `r̄`. Initially, let's assume the height of the tree (levels not including the root) is `h = 2`. These parameters are used internally to compute the tuple $(p,u,d)$:"
   ]
  },
  {
   "cell_type": "code",
   "execution_count": 2,
   "id": "e0126d0c-8583-4371-bb9e-b2ba623f8313",
   "metadata": {
    "tags": []
   },
   "outputs": [],
   "source": [
    "Δt = (1.0/365.0);\n",
    "T = 365.0*Δt;\n",
    "Sₒ = 60.0;\n",
    "K = 60.0;\n",
    "r̄ = 0.05;\n",
    "σ̄ = 0.10;"
   ]
  },
  {
   "cell_type": "markdown",
   "id": "fe4d1e4a-c4ea-494c-943b-606e86fd68ca",
   "metadata": {},
   "source": [
    "Use the `build(…)` function to create an empty lattice model of type `MyAdjacencyBasedCRREquityPriceTree`. Pass this empty model to the `populate(…)` function using the [Julia piping operator](https://docs.julialang.org/en/v1/manual/functions/#Function-composition-and-piping) `|>`. \n",
    "\n",
    "* The `build(...)` for the `MyAdjacencyBasedCRREquityPriceTree` requires the `μ` (risk-free rate), `T` (duration in units of `years`), and `σ` (the implied volatility `IV` value).\n",
    "* The `populate(…)` requires the initial share price `Sₒ` and tree-height `h` parameters\n",
    "\n",
    "The `populate(…)` function calculates the prices and probabilities of each node (type `MyCRRLatticeNodeModel`) in the tree. Set the populated lattice to the `lattice_model` variable:"
   ]
  },
  {
   "cell_type": "code",
   "execution_count": 3,
   "id": "9b3cb7da-ba94-4353-9ffa-bf829b242b46",
   "metadata": {
    "tags": []
   },
   "outputs": [],
   "source": [
    "# lattice_model = nothing; # replace this line with your code"
   ]
  },
  {
   "cell_type": "code",
   "execution_count": 12,
   "id": "aa7ae964-50fd-49da-bb8a-7f2b205a3dd1",
   "metadata": {
    "tags": []
   },
   "outputs": [],
   "source": [
    "lattice_model = VLQuantitativeFinancePackage.build(MyAdjacencyBasedCRREquityPriceTree, (\n",
    "    μ = r̄, T = T, σ = σ̄)) |> (x-> populate(x, Sₒ = Sₒ, h = 2));"
   ]
  },
  {
   "cell_type": "markdown",
   "id": "f0674346-3251-4aaf-ac36-d80e36fc1302",
   "metadata": {},
   "source": [
    "## Task 2: Compute the premium of an American `call` contract with `h = 2`\n",
    "Now that we have the CRR share price lattice, compute the the premium $\\mathcal{P}_{c}$ of an American `call` contract using `backward induction` on the binomial lattice. The `call` contract has a strike price `K = 60` USD/share. The value computed by Hull is $\\mathcal{P}_{c} = 4.084$ USD/share. Build `MyAmericanCallContractModel` instance using the `build(...)` method. \n",
    "\n",
    "* The `build(...)` method takes the strike price `K` and the `sense=1` parameters"
   ]
  },
  {
   "cell_type": "code",
   "execution_count": 5,
   "id": "fbfbeccc-fffe-44a1-bad9-6db8254b81a3",
   "metadata": {},
   "outputs": [],
   "source": [
    "# american_call_contract_model = nothing; # replace this line with your code"
   ]
  },
  {
   "cell_type": "code",
   "execution_count": 13,
   "id": "d0a2cd3c-8b95-470f-8b1b-e739a5f5a75d",
   "metadata": {
    "tags": []
   },
   "outputs": [],
   "source": [
    "american_call_contract_model = VLQuantitativeFinancePackage.build(MyAmericanCallContractModel, (\n",
    "        K = K, sense = 1));"
   ]
  },
  {
   "cell_type": "markdown",
   "id": "44c47239-2f49-4cc0-8779-957079476f6b",
   "metadata": {},
   "source": [
    "Call the `premium(...)` pass in the `american_call_contract_model` and `lattice_model` as parameters (in that order). Save the computed premium value in the `my_call_premium` variable:"
   ]
  },
  {
   "cell_type": "code",
   "execution_count": 7,
   "id": "266f59d7-adaa-41ee-a850-162482e98d63",
   "metadata": {
    "tags": []
   },
   "outputs": [],
   "source": [
    "# my_call_premium = nothing; # replace this line with your code"
   ]
  },
  {
   "cell_type": "code",
   "execution_count": 14,
   "id": "d18e4604-cc32-4e62-ac1a-110bab5cd82e",
   "metadata": {
    "tags": []
   },
   "outputs": [],
   "source": [
    "my_call_premium = premium(american_call_contract_model, lattice_model);"
   ]
  },
  {
   "cell_type": "markdown",
   "id": "7dcc8ed4-13bf-4374-8748-c7dc94663ed9",
   "metadata": {
    "tags": []
   },
   "source": [
    "### Check\n",
    "Use the `@assert isapprox(...)` test, with `rtol = 1e-3` to test if your answer equals (or is close) to the `Hull` value:"
   ]
  },
  {
   "cell_type": "code",
   "execution_count": 15,
   "id": "f4392353-72fd-490c-bd63-853e03a63d04",
   "metadata": {
    "tags": []
   },
   "outputs": [],
   "source": [
    "hull_call_contract_premium = 4.084;"
   ]
  },
  {
   "cell_type": "code",
   "execution_count": null,
   "id": "9c4b4627-dcde-4b09-906e-60949668ed23",
   "metadata": {},
   "outputs": [],
   "source": []
  },
  {
   "cell_type": "code",
   "execution_count": 16,
   "id": "8d5465a8-8343-4d24-889e-7804e1bb6981",
   "metadata": {},
   "outputs": [
    {
     "ename": "LoadError",
     "evalue": "AssertionError: isapprox(hull_call_contract_premium, my_call_premium, rtol = 0.001)",
     "output_type": "error",
     "traceback": [
      "AssertionError: isapprox(hull_call_contract_premium, my_call_premium, rtol = 0.001)",
      "",
      "Stacktrace:",
      " [1] top-level scope",
      "   @ In[16]:1"
     ]
    }
   ],
   "source": [
    "@assert isapprox(hull_call_contract_premium, my_call_premium, rtol=1e-3)"
   ]
  },
  {
   "cell_type": "markdown",
   "id": "f2a6a4a8-613e-4a48-9e95-f1a4b1468894",
   "metadata": {},
   "source": [
    "1. `TODO`: Check your `h = 2` calculations by hand (any mistakes?). Scan your hand calculation as `pdf` and include it in the repository\n",
    "1. `TODO`: Move to __task 3__."
   ]
  },
  {
   "cell_type": "markdown",
   "id": "b8ee33de-8c2c-4331-a7f2-b66d827ca2bc",
   "metadata": {},
   "source": [
    "## Task 3: Compute the premium of an American `call` contract with `h = 100`\n",
    "Repeat __task 2__ with a value of `h = 300` (all other parameters the same). Do the same `@assert isapprox(...)` test, do you pass with a larger tree (why?)"
   ]
  },
  {
   "cell_type": "code",
   "execution_count": 11,
   "id": "a7bc0052-14d8-4261-9f8f-789a52921e9c",
   "metadata": {
    "tags": []
   },
   "outputs": [],
   "source": [
    "# fill me in"
   ]
  }
 ],
 "metadata": {
  "kernelspec": {
   "display_name": "Julia 1.9.3",
   "language": "julia",
   "name": "julia-1.9"
  },
  "language_info": {
   "file_extension": ".jl",
   "mimetype": "application/julia",
   "name": "julia",
   "version": "1.9.3"
  }
 },
 "nbformat": 4,
 "nbformat_minor": 5
}
